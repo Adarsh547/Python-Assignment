{
 "cells": [
  {
   "cell_type": "code",
   "execution_count": 1,
   "metadata": {},
   "outputs": [],
   "source": [
    "#Write a Python Program to Find the Factorial of a Number?"
   ]
  },
  {
   "cell_type": "code",
   "execution_count": 2,
   "metadata": {},
   "outputs": [
    {
     "name": "stdout",
     "output_type": "stream",
     "text": [
      "Enter a Number -- 4\n",
      "Factorial of a number is  24\n"
     ]
    }
   ],
   "source": [
    "# take the input from the user\n",
    "number = int(input(\"Enter a Number -- \"))\n",
    "fact=1\n",
    "# if number is negative then factorial is not available\n",
    "if number < 0:\n",
    "    print(\"Factorial is not available\")\n",
    "# if number is 0 then factorial is 1\n",
    "elif number == 0:\n",
    "    print(\"Factorial is 1\")\n",
    "else:\n",
    "    for i in range(1,number+1):\n",
    "        fact=fact*i\n",
    "    print(\"Factorial of a number is \", fact)"
   ]
  },
  {
   "cell_type": "code",
   "execution_count": 3,
   "metadata": {},
   "outputs": [],
   "source": [
    "# Write a Python Program to Display the multiplication Table?"
   ]
  },
  {
   "cell_type": "code",
   "execution_count": 4,
   "metadata": {},
   "outputs": [
    {
     "name": "stdout",
     "output_type": "stream",
     "text": [
      "Enter the number -- 5\n",
      "5 x 1 = 5\n",
      "5 x 2 = 10\n",
      "5 x 3 = 15\n",
      "5 x 4 = 20\n",
      "5 x 5 = 25\n",
      "5 x 6 = 30\n",
      "5 x 7 = 35\n",
      "5 x 8 = 40\n",
      "5 x 9 = 45\n",
      "5 x 10 = 50\n"
     ]
    }
   ],
   "source": [
    "# take the input from the user\n",
    "number = int(input(\"Enter the number -- \"))\n",
    "\n",
    "for i in range(1,11):\n",
    "    print(number, 'x', i, '=', number*i)"
   ]
  },
  {
   "cell_type": "code",
   "execution_count": 5,
   "metadata": {},
   "outputs": [],
   "source": [
    "#Write a Python Program to Print the Fibonacci sequence?"
   ]
  },
  {
   "cell_type": "code",
   "execution_count": 6,
   "metadata": {},
   "outputs": [
    {
     "name": "stdout",
     "output_type": "stream",
     "text": [
      "Enter the Number -- 5\n",
      "0\n",
      "1\n",
      "1\n",
      "2\n",
      "3\n"
     ]
    }
   ],
   "source": [
    "number = int(input(\"Enter the Number -- \"))\n",
    "n1,n2 = 0,1\n",
    "count=0\n",
    "if number < 0:\n",
    "    print(\"Please enter a Positive number\")\n",
    "elif number==1:\n",
    "    print(\"fibonacci sequence upto \", number , \":\")\n",
    "    print(n1)\n",
    "else:\n",
    "    while count<number:\n",
    "        print(n1)\n",
    "        nth=n1+n2\n",
    "        n1=n2\n",
    "        n2=nth\n",
    "        count+=1"
   ]
  },
  {
   "cell_type": "code",
   "execution_count": 7,
   "metadata": {},
   "outputs": [],
   "source": [
    "# Write a Python Program to Check armstrong number"
   ]
  },
  {
   "cell_type": "code",
   "execution_count": 8,
   "metadata": {},
   "outputs": [
    {
     "name": "stdout",
     "output_type": "stream",
     "text": [
      "Enter a Number153\n",
      "Number is armstrong number\n"
     ]
    }
   ],
   "source": [
    "# take the number from the user\n",
    "number = int(input(\"Enter a Number\"))\n",
    "sum=0\n",
    "temp = number\n",
    "while temp>0:\n",
    "    digit = temp%10\n",
    "    sum += digit**3\n",
    "    temp //= 10\n",
    "if number==sum:\n",
    "    print(\"Number is armstrong number\")\n",
    "else:\n",
    "    print(\"Not a armstrong Number\")"
   ]
  },
  {
   "cell_type": "code",
   "execution_count": 9,
   "metadata": {},
   "outputs": [],
   "source": [
    "# Write a Python Program to Find Armstrong Number in an Interval?"
   ]
  },
  {
   "cell_type": "code",
   "execution_count": 10,
   "metadata": {},
   "outputs": [
    {
     "name": "stdout",
     "output_type": "stream",
     "text": [
      "Enter a lower limit0\n",
      "Enter a upper limit200\n",
      "0\n",
      "1\n",
      "2\n",
      "3\n",
      "4\n",
      "5\n",
      "6\n",
      "7\n",
      "8\n",
      "9\n",
      "153\n"
     ]
    }
   ],
   "source": [
    "lower = int(input(\"Enter a lower limit\"))\n",
    "upper = int(input(\"Enter a upper limit\"))\n",
    "for num in range(lower,upper+1):\n",
    "    sum=0\n",
    "    order = len(str(num))\n",
    "    temp=num\n",
    "    while temp>0:\n",
    "        digit = temp%10\n",
    "        sum += digit**order\n",
    "        temp //= 10\n",
    "    if num==sum:\n",
    "        print(num)"
   ]
  },
  {
   "cell_type": "code",
   "execution_count": 11,
   "metadata": {},
   "outputs": [],
   "source": [
    "# Write a Python Program to Find the Sum of Natural Numbers?"
   ]
  },
  {
   "cell_type": "code",
   "execution_count": 12,
   "metadata": {},
   "outputs": [
    {
     "name": "stdout",
     "output_type": "stream",
     "text": [
      "Enter a Number --5\n",
      "The sum is 15\n"
     ]
    }
   ],
   "source": [
    "number=int(input(\"Enter a Number --\"))\n",
    "sum=0\n",
    "for i in range(1,number+1):\n",
    "    sum=sum+i\n",
    "print(\"The sum is\",sum)"
   ]
  },
  {
   "cell_type": "code",
   "execution_count": null,
   "metadata": {},
   "outputs": [],
   "source": []
  }
 ],
 "metadata": {
  "kernelspec": {
   "display_name": "Python 3",
   "language": "python",
   "name": "python3"
  },
  "language_info": {
   "codemirror_mode": {
    "name": "ipython",
    "version": 3
   },
   "file_extension": ".py",
   "mimetype": "text/x-python",
   "name": "python",
   "nbconvert_exporter": "python",
   "pygments_lexer": "ipython3",
   "version": "3.8.5"
  }
 },
 "nbformat": 4,
 "nbformat_minor": 4
}
